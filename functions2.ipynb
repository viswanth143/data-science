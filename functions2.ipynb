{
 "cells": [
  {
   "cell_type": "markdown",
   "id": "a9d00185",
   "metadata": {},
   "source": [
    "# Module 4: Functions Assignments\n",
    "## Lesson 4.1: Defining Functions\n",
    "### Assignment 1: Simple Function\n",
    "\n",
    "Define a function that takes a single integer as input and returns its square. Test the function with different inputs."
   ]
  },
  {
   "cell_type": "code",
   "execution_count": null,
   "id": "a787fc1a",
   "metadata": {},
   "outputs": [],
   "source": [
    "def square(x):\n",
    "    return x ** 2\n",
    "\n",
    "# Test\n",
    "print(square(2))  # 4\n",
    "print(square(5))  # 25"
   ]
  },
  {
   "cell_type": "markdown",
   "id": "3ab2f51a",
   "metadata": {},
   "source": [
    "### Assignment 2: Multiple Arguments\n",
    "\n",
    "Define a function that takes two integers as input and returns their sum. Test the function with different inputs."
   ]
  },
  {
   "cell_type": "code",
   "execution_count": null,
   "id": "91ea59e2",
   "metadata": {},
   "outputs": [],
   "source": [
    "def add(x, y):\n",
    "    return x + y\n",
    "\n",
    "# Test\n",
    "print(add(2, 3))  # 5\n",
    "print(add(10, 20))  # 30"
   ]
  },
  {
   "cell_type": "markdown",
   "id": "8528884c",
   "metadata": {},
   "source": [
    "### Assignment 3: Default Arguments\n",
    "\n",
    "Define a function that takes two integers as input and returns their sum. The second integer should have a default value of 5. Test the function with different inputs."
   ]
  },
  {
   "cell_type": "code",
   "execution_count": null,
   "id": "23ebac51",
   "metadata": {},
   "outputs": [],
   "source": [
    "def add(x, y=5):\n",
    "    return x + y\n",
    "\n",
    "# Test\n",
    "print(add(2))  # 7\n",
    "print(add(10, 20))  # 30"
   ]
  },
  {
   "cell_type": "markdown",
   "id": "740d9150",
   "metadata": {},
   "source": [
    "### Assignment 4: Keyword Arguments\n",
    "\n",
    "Define a function that takes three named arguments: first_name, last_name, and age, and returns a formatted string. Test the function with different inputs."
   ]
  },
  {
   "cell_type": "code",
   "execution_count": null,
   "id": "1f969152",
   "metadata": {},
   "outputs": [],
   "source": [
    "def introduce_person(first_name, last_name, age):\n",
    "    return f\"Hello, my name is {first_name} {last_name} and I am {age} years old.\"\n",
    "print(introduce_person(\"John\", \"Doe\", 25))  # Output: Hello, my name is John Doe and I am 25 years old.\n",
    "print(introduce_person(\"Alice\", \"Smith\", 30)) # Output: Hello, my name is Alice Smith and I am 30 years old.\n",
    "print(introduce_person(\"Bob\", \"Johnson\", 40))  # Output: Hello, my name is Bob Johnson and I am 40 years old.\n"
   ]
  },
  {
   "cell_type": "markdown",
   "id": "bb0f9585",
   "metadata": {},
   "source": [
    "### Assignment 5: Variable-length Arguments\n",
    "\n",
    "Define a function that takes a variable number of integer arguments and returns their product. Test the function with different inputs."
   ]
  },
  {
   "cell_type": "code",
   "execution_count": null,
   "id": "c4812f3f",
   "metadata": {},
   "outputs": [],
   "source": [
    "def multiply(*args):\n",
    "    product = 1\n",
    "    for num in args:\n",
    "        product *= num\n",
    "    return product\n",
    "\n",
    "# Test\n",
    "print(multiply(2, 3, 4))  # 24\n",
    "print(multiply(1, 2, 3, 4, 5))  # 120"
   ]
  },
  {
   "cell_type": "markdown",
   "id": "035d33ab",
   "metadata": {},
   "source": [
    "### Assignment 6: Nested Functions\n",
    "\n",
    "Define a function that contains another function inside it. The outer function should take two integers as input and return the result of the inner function, which multiplies the two integers. Test the function with different inputs."
   ]
  },
  {
   "cell_type": "code",
   "execution_count": null,
   "id": "e02769da",
   "metadata": {},
   "outputs": [],
   "source": [
    "def outer_function(x, y):\n",
    "    def inner_function(a, b):\n",
    "        return a * b\n",
    "    return inner_function(x, y)\n",
    "\n",
    "# Test\n",
    "print(outer_function(2, 3))  # 6\n",
    "print(outer_function(4, 5))  # 20"
   ]
  },
  {
   "cell_type": "markdown",
   "id": "e3de5cc2",
   "metadata": {},
   "source": [
    "### Assignment 7: Returning Multiple Values\n",
    "\n",
    "Define a function that takes a single integer as input and returns the integer squared, cubed, and raised to the power of four. Test the function with different inputs."
   ]
  },
  {
   "cell_type": "code",
   "execution_count": null,
   "id": "e595a2d2",
   "metadata": {},
   "outputs": [],
   "source": [
    "def powers(x):\n",
    "    return x ** 2, x ** 3, x ** 4\n",
    "\n",
    "# Test\n",
    "print(powers(2))  # (4, 8, 16)\n",
    "print(powers(3))  # (9, 27, 81)"
   ]
  },
  {
   "cell_type": "markdown",
   "id": "0b117cb9",
   "metadata": {},
   "source": [
    "### Assignment 8: Recursive Function\n",
    "\n",
    "Define a recursive function that calculates the factorial of a given number. Test the function with different inputs."
   ]
  },
  {
   "cell_type": "code",
   "execution_count": null,
   "id": "f9cdaec0",
   "metadata": {},
   "outputs": [],
   "source": [
    "def factorial(n):\n",
    "    if n == 0:\n",
    "        return 1\n",
    "    else:\n",
    "        return n * factorial(n - 1)\n",
    "\n",
    "# Test\n",
    "print(factorial(5))  # 120\n",
    "print(factorial(6))  # 720"
   ]
  },
  {
   "cell_type": "markdown",
   "id": "aa2a87ae",
   "metadata": {},
   "source": [
    "### Assignment 9: Lambda Function\n",
    "\n",
    "Define a lambda function that takes two integers as input and returns their sum. Test the lambda function with different inputs."
   ]
  },
  {
   "cell_type": "code",
   "execution_count": null,
   "id": "320b89a7",
   "metadata": {},
   "outputs": [],
   "source": [
    "add = lambda x, y: x + y\n",
    "\n",
    "# Test\n",
    "print(add(2, 3))  # 5\n",
    "print(add(10, 20))  # 30"
   ]
  },
  {
   "cell_type": "markdown",
   "id": "dd020abe",
   "metadata": {},
   "source": [
    "### Assignment 10: Map Function\n",
    "\n",
    "Use the map function to apply a lambda function that squares each number in a list of integers. Test with different lists."
   ]
  },
  {
   "cell_type": "code",
   "execution_count": null,
   "id": "b3b7d09b",
   "metadata": {},
   "outputs": [],
   "source": [
    "numbers = [1, 2, 3, 4, 5]\n",
    "squared_numbers = list(map(lambda x: x ** 2, numbers))\n",
    "print(squared_numbers)  # [1, 4, 9, 16, 25]"
   ]
  },
  {
   "cell_type": "markdown",
   "id": "fd5af607",
   "metadata": {},
   "source": [
    "### Assignment 11: Filter Function\n",
    "\n",
    "Use the filter function to filter out all odd numbers from a list of integers. Test with different lists."
   ]
  },
  {
   "cell_type": "code",
   "execution_count": null,
   "id": "73134f23",
   "metadata": {},
   "outputs": [],
   "source": [
    "numbers = [1, 2, 3, 4, 5, 6, 7, 8, 9, 10]\n",
    "even_numbers = list(filter(lambda x: x % 2 == 0, numbers))\n",
    "print(even_numbers)  # [2, 4, 6, 8, 10]"
   ]
  },
  {
   "cell_type": "markdown",
   "id": "e6bb91d2",
   "metadata": {},
   "source": [
    "### Assignment 12: Function Decorator\n",
    "\n",
    "Define a decorator function that prints 'Executing function...' before executing a function and 'Function executed.' after executing it. Apply this decorator to a function that takes a list of integers and returns their sum. Test the decorated function with different lists."
   ]
  },
  {
   "cell_type": "code",
   "execution_count": null,
   "id": "6b906cea",
   "metadata": {},
   "outputs": [],
   "source": [
    "def my_decorator(func):\n",
    "    def wrapper(*args, **kwargs):\n",
    "        print('Executing function...')\n",
    "        result = func(*args, **kwargs)\n",
    "        print('Function executed.')\n",
    "        return result\n",
    "    return wrapper\n",
    "\n",
    "@my_decorator\n",
    "def sum_list(lst):\n",
    "    return sum(lst)\n",
    "\n",
    "# Test\n",
    "print(sum_list([1, 2, 3, 4, 5]))  # 15"
   ]
  },
  {
   "cell_type": "markdown",
   "id": "4f33913e",
   "metadata": {},
   "source": [
    "### Assignment 13: Function with *args and **kwargs\n",
    "\n",
    "Define a function that takes variable-length arguments and keyword arguments and prints them. Test the function with different inputs."
   ]
  },
  {
   "cell_type": "code",
   "execution_count": null,
   "id": "12a7f167",
   "metadata": {},
   "outputs": [],
   "source": [
    "def print_args_kwargs(*args, **kwargs):\n",
    "    print('args:', args)\n",
    "    print('kwargs:', kwargs)\n",
    "\n",
    "# Test\n",
    "print_args_kwargs(1, 2, 3, a='apple', b='banana')\n",
    "print_args_kwargs('hello', 'world', x=10, y=20)"
   ]
  },
  {
   "cell_type": "markdown",
   "id": "e524bab6",
   "metadata": {},
   "source": [
    "### Assignment 14: Higher-Order Function\n",
    "\n",
    "Define a higher-order function that takes a function and a list of integers as arguments, and applies the function to each integer in the list. Test with different functions and lists."
   ]
  },
  {
   "cell_type": "code",
   "execution_count": null,
   "id": "651dc889",
   "metadata": {},
   "outputs": [],
   "source": [
    "def apply_function(func, lst):\n",
    "    return [func(x) for x in lst]\n",
    "\n",
    "# Test\n",
    "print(apply_function(lambda x: x ** 2, [1, 2, 3, 4, 5]))  # [1, 4, 9, 16, 25]\n",
    "print(apply_function(lambda x: x + 1, [1, 2, 3, 4, 5]))  # [2, 3, 4, 5, 6]"
   ]
  },
  {
   "cell_type": "markdown",
   "id": "81883e02",
   "metadata": {},
   "source": [
    "### Assignment 15: Function Documentation\n",
    "\n",
    "Define a function with a docstring that explains what the function does, its parameters, and its return value. Print the function's docstring."
   ]
  },
  {
   "cell_type": "code",
   "execution_count": null,
   "id": "f0c78101",
   "metadata": {},
   "outputs": [],
   "source": [
    "def example_function(x, y):\n",
    "    \"\"\"\n",
    "    This function takes two integers and returns their sum.\n",
    "\n",
    "    Parameters:\n",
    "    x (int): The first integer.\n",
    "    y (int): The second integer.\n",
    "\n",
    "    Returns:\n",
    "    int: The sum of the two integers.\n",
    "    \"\"\"\n",
    "    return x + y\n",
    "\n",
    "# Print docstring\n",
    "print(example_function.__doc__)"
   ]
  }
 ],
 "metadata": {
  "kernelspec": {
   "display_name": "Python 3",
   "language": "python",
   "name": "python3"
  },
  "language_info": {
   "codemirror_mode": {
    "name": "ipython",
    "version": 3
   },
   "file_extension": ".py",
   "mimetype": "text/x-python",
   "name": "python",
   "nbconvert_exporter": "python",
   "pygments_lexer": "ipython3",
   "version": "3.9.7"
  }
 },
 "nbformat": 4,
 "nbformat_minor": 5
}
