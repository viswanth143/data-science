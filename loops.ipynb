{
 "cells": [
  {
   "cell_type": "markdown",
   "id": "3a4f6ce7",
   "metadata": {},
   "source": [
    "# Module 2: Control Flow Assignments\n",
    "## Lesson 2.1: Conditional Statements\n",
    "### Assignment 1: Simple if Statement\n",
    "\n",
    "Write a program that asks the user to input a number and prints whether the number is positive."
   ]
  },
  {
   "cell_type": "code",
   "execution_count": null,
   "id": "d6d1fd88",
   "metadata": {},
   "outputs": [
    {
     "name": "stdout",
     "output_type": "stream",
     "text": [
      "The number22 is positive.\n"
     ]
    }
   ],
   "source": [
    "num = int(input('enter a number: '))\n",
    "if num > 0:\n",
    "    print(f'The number{num} is positive.')"
   ]
  },
  {
   "cell_type": "markdown",
   "id": "e7491ddd",
   "metadata": {},
   "source": [
    "### Assignment 2: if-else Statement\n",
    "\n",
    "Write a program that asks the user to input a number and prints whether the number is positive or negative."
   ]
  },
  {
   "cell_type": "code",
   "execution_count": null,
   "id": "c51c58de",
   "metadata": {},
   "outputs": [
    {
     "name": "stdout",
     "output_type": "stream",
     "text": [
      "The number 33 is positive.\n"
     ]
    }
   ],
   "source": [
    "num = int(input('Enter a number: '))\n",
    "if num > 0:\n",
    "    print(f'The number {num} is positive.')\n",
    "elif num == 0:\n",
    "    print('The number is zero.')\n",
    "else:\n",
    "    print(f'The number {num} is negative.')\n"
   ]
  },
  {
   "cell_type": "markdown",
   "id": "62dc873f",
   "metadata": {},
   "source": [
    "### Assignment 3: if-elif-else Statement\n",
    "\n",
    "Write a program that asks the user to input a number and prints whether the number is positive, negative, or zero."
   ]
  },
  {
   "cell_type": "code",
   "execution_count": null,
   "id": "44e21234",
   "metadata": {},
   "outputs": [
    {
     "name": "stdout",
     "output_type": "stream",
     "text": [
      "The number 33 is positive.\n"
     ]
    }
   ],
   "source": [
    "num = int(input('Enter a number: '))\n",
    "if num > 0:\n",
    "    print(f'The number {num} is positive.')\n",
    "elif num == 0:\n",
    "    print('The number is zero.')\n",
    "else:\n",
    "    print(f'The number {num} is negative.')\n"
   ]
  },
  {
   "cell_type": "markdown",
   "id": "ab54a81f",
   "metadata": {},
   "source": [
    "### Assignment 4: Nested if Statement\n",
    "\n",
    "Write a program that asks the user to input a number and prints whether the number is positive and even, positive and odd, or negative."
   ]
  },
  {
   "cell_type": "code",
   "execution_count": null,
   "id": "12a88925",
   "metadata": {},
   "outputs": [
    {
     "name": "stdout",
     "output_type": "stream",
     "text": [
      "The number -22 is negative.\n"
     ]
    }
   ],
   "source": [
    "num = int(input('Enter a number: '))\n",
    "if num > 0:\n",
    "    if num % 2 ==0:\n",
    "        print(f'The number {num} is positive and even.')\n",
    "    else:\n",
    "        print(f'The number {num} is negative and odd.')\n",
    "else:\n",
    "    print(f'The number {num} is negative.')        \n",
    "\n"
   ]
  },
  {
   "cell_type": "markdown",
   "id": "c4d19785",
   "metadata": {},
   "source": [
    "## Lesson 2.2: Loops\n",
    "### Assignment 5: for Loop\n",
    "\n",
    "Write a program that prints all the numbers from 1 to 10 using a for loop."
   ]
  },
  {
   "cell_type": "code",
   "execution_count": null,
   "id": "c580c55b",
   "metadata": {},
   "outputs": [
    {
     "name": "stdout",
     "output_type": "stream",
     "text": [
      "1\n",
      "2\n",
      "3\n",
      "4\n",
      "5\n",
      "6\n",
      "7\n",
      "8\n",
      "9\n",
      "10\n"
     ]
    }
   ],
   "source": [
    "for i in range(1,11):\n",
    "    print(i)"
   ]
  },
  {
   "cell_type": "markdown",
   "id": "b7dbe975",
   "metadata": {},
   "source": [
    "### Assignment 6: while Loop\n",
    "\n",
    "Write a program that prints all the numbers from 1 to 10 using a while loop."
   ]
  },
  {
   "cell_type": "code",
   "execution_count": 1,
   "id": "4b0c39bb",
   "metadata": {},
   "outputs": [
    {
     "name": "stdout",
     "output_type": "stream",
     "text": [
      "1\n",
      "2\n",
      "3\n",
      "4\n",
      "5\n",
      "6\n",
      "7\n",
      "8\n",
      "9\n",
      "10\n"
     ]
    }
   ],
   "source": [
    "i = 1\n",
    "while i <= 10:\n",
    "    print(i)\n",
    "    i = i+1\n"
   ]
  },
  {
   "cell_type": "markdown",
   "id": "8175d591",
   "metadata": {},
   "source": [
    "### Assignment 7: Nested Loops\n",
    "\n",
    "Write a program that prints a 5x5 grid of asterisks (*) using nested loops."
   ]
  },
  {
   "cell_type": "code",
   "execution_count": 8,
   "id": "8c2d56a1",
   "metadata": {},
   "outputs": [
    {
     "name": "stdout",
     "output_type": "stream",
     "text": [
      "* * * * * \n",
      "* * * * * \n",
      "* * * * * \n",
      "* * * * * \n",
      "* * * * * \n"
     ]
    }
   ],
   "source": [
    "for i in range(5):\n",
    "    for j in range(5):\n",
    "        print('*', end = ' ')\n",
    "    print()   "
   ]
  },
  {
   "cell_type": "markdown",
   "id": "495da38a",
   "metadata": {},
   "source": [
    "### Assignment 8: break Statement\n",
    "\n",
    "Write a program that asks the user to input numbers until they input 0. The program should print the sum of all the input numbers."
   ]
  },
  {
   "cell_type": "code",
   "execution_count": 2,
   "id": "653cd949",
   "metadata": {},
   "outputs": [
    {
     "name": "stdout",
     "output_type": "stream",
     "text": [
      "Please enter a valid number.\n",
      "Invalid input! Please enter a valid integer.\n",
      "Please enter a valid number.\n",
      "Please enter a valid number.\n",
      "Please enter a valid number.\n",
      "The total sum of the numbers is: 21\n"
     ]
    }
   ],
   "source": [
    "total = 0\n",
    "num = None\n",
    "\n",
    "while num != 0:\n",
    "    user_input = input(\"Enter a number (or 0 to stop): \")\n",
    "    \n",
    "    # Check if the user entered something valid\n",
    "    if user_input.strip() == \"\":  # Handle empty input\n",
    "        print(\"Please enter a valid number.\")\n",
    "        continue\n",
    "    \n",
    "    try:\n",
    "        num = int(user_input)\n",
    "    except ValueError:\n",
    "        print(\"Invalid input! Please enter a valid integer.\")\n",
    "        continue\n",
    "    \n",
    "    if num != 0:\n",
    "        total += num  # Add the number to the total sum\n",
    "\n",
    "print(f\"The total sum of the numbers is: {total}\")\n",
    "\n",
    "\n"
   ]
  },
  {
   "cell_type": "markdown",
   "id": "102c1982",
   "metadata": {},
   "source": [
    "### Assignment 9: continue Statement\n",
    "\n",
    "Write a program that prints all the numbers from 1 to 10 except 5 using a for loop and continue statement."
   ]
  },
  {
   "cell_type": "code",
   "execution_count": 3,
   "id": "813b6d9e",
   "metadata": {},
   "outputs": [
    {
     "name": "stdout",
     "output_type": "stream",
     "text": [
      "1\n",
      "2\n",
      "3\n",
      "4\n",
      "6\n",
      "7\n",
      "8\n",
      "9\n",
      "10\n"
     ]
    }
   ],
   "source": [
    "for i in range(1, 11):\n",
    "    if i == 5:\n",
    "        continue\n",
    "    print(i)"
   ]
  },
  {
   "cell_type": "markdown",
   "id": "b7601561",
   "metadata": {},
   "source": [
    "### Assignment 10: pass Statement\n",
    "\n",
    "Write a program that defines an empty function using the pass statement."
   ]
  },
  {
   "cell_type": "code",
   "execution_count": 4,
   "id": "d7818048",
   "metadata": {},
   "outputs": [],
   "source": [
    "def empty_function():\n",
    "    pass\n",
    "\n",
    "# Calling the empty function\n",
    "empty_function()"
   ]
  },
  {
   "cell_type": "markdown",
   "id": "81ea4aa8",
   "metadata": {},
   "source": [
    "### Assignment 11: Combining Loops and Conditionals\n",
    "\n",
    "Write a program that asks the user to input a number and prints all the even numbers from 1 to that number using a for loop."
   ]
  },
  {
   "cell_type": "code",
   "execution_count": 5,
   "id": "58b0ac5c",
   "metadata": {},
   "outputs": [
    {
     "name": "stdout",
     "output_type": "stream",
     "text": [
      "2\n",
      "4\n",
      "6\n",
      "8\n",
      "10\n",
      "12\n",
      "14\n",
      "16\n",
      "18\n",
      "20\n",
      "22\n"
     ]
    }
   ],
   "source": [
    "number = int(input(\"Enter a number: \"))\n",
    "for i in range(1, number + 1):\n",
    "    if i % 2 == 0:\n",
    "        print(i)"
   ]
  },
  {
   "cell_type": "markdown",
   "id": "cc716f0a",
   "metadata": {},
   "source": [
    "### Assignment 12: Factorial Calculation\n",
    "\n",
    "Write a program that calculates the factorial of a number input by the user using a while loop."
   ]
  },
  {
   "cell_type": "code",
   "execution_count": 6,
   "id": "e68c1984",
   "metadata": {},
   "outputs": [
    {
     "name": "stdout",
     "output_type": "stream",
     "text": [
      "The factorial of 23 is 25852016738884976640000.\n"
     ]
    }
   ],
   "source": [
    "number = int(input(\"Enter a number: \"))\n",
    "factorial = 1\n",
    "i = 1\n",
    "while i <= number:\n",
    "    factorial *= i\n",
    "    i += 1\n",
    "print(f\"The factorial of {number} is {factorial}.\")"
   ]
  },
  {
   "cell_type": "markdown",
   "id": "1555046b",
   "metadata": {},
   "source": [
    "### Assignment 13: Sum of Digits\n",
    "\n",
    "Write a program that calculates the sum of the digits of a number input by the user using a while loop."
   ]
  },
  {
   "cell_type": "code",
   "execution_count": null,
   "id": "65ae1d70",
   "metadata": {},
   "outputs": [],
   "source": [
    "number = int(input(\"Enter a number: \"))\n",
    "sum_of_digits = 0\n",
    "while number > 0:\n",
    "    digit = number % 10\n",
    "    sum_of_digits += digit\n",
    "    number = number // 10\n",
    "print(f\"The sum of the digits is {sum_of_digits}.\")"
   ]
  },
  {
   "cell_type": "markdown",
   "id": "4acbe8f8",
   "metadata": {},
   "source": [
    "### Assignment 14: Prime Number Check\n",
    "\n",
    "Write a program that checks if a number input by the user is a prime number using a for loop."
   ]
  },
  {
   "cell_type": "code",
   "execution_count": null,
   "id": "264a1b73",
   "metadata": {},
   "outputs": [],
   "source": [
    "number = int(input(\"Enter a number: \"))  # Step 1: Input the number\n",
    "\n",
    "# Check if the number is less than 2, as 0 and 1 are not prime\n",
    "if number < 2:\n",
    "    print(f\"{number} is not a prime number.\")\n",
    "else:\n",
    "    is_prime = True  # Assume the number is prime unless proven otherwise\n",
    "\n",
    "    # Check divisibility from 2 to n-1\n",
    "    for i in range(2, number):\n",
    "        if number % i == 0:\n",
    "            is_prime = False  # If divisible by any number, it's not prime\n",
    "            break  # No need to check further\n",
    "\n",
    "    # Output result\n",
    "    if is_prime:\n",
    "        print(f\"{number} is a prime number.\")\n",
    "    else:\n",
    "        print(f\"{number} is not a prime number.\")\n"
   ]
  },
  {
   "cell_type": "markdown",
   "id": "ba02e756",
   "metadata": {},
   "source": [
    "### Assignment 15: Fibonacci Sequence\n",
    "\n",
    "Write a program that prints the first n Fibonacci numbers, where n is input by the user."
   ]
  },
  {
   "cell_type": "code",
   "execution_count": null,
   "id": "aed9aba4",
   "metadata": {},
   "outputs": [],
   "source": [
    "n = int(input(\"Enter the number of Fibonacci numbers to print: \"))\n",
    "a, b = 0, 1\n",
    "count = 0\n",
    "while count < n:\n",
    "    print(a)\n",
    "    a, b = b, a + b\n",
    "    count += 1"
   ]
  }
 ],
 "metadata": {
  "kernelspec": {
   "display_name": "Python 3",
   "language": "python",
   "name": "python3"
  },
  "language_info": {
   "codemirror_mode": {
    "name": "ipython",
    "version": 3
   },
   "file_extension": ".py",
   "mimetype": "text/x-python",
   "name": "python",
   "nbconvert_exporter": "python",
   "pygments_lexer": "ipython3",
   "version": "3.12.0"
  }
 },
 "nbformat": 4,
 "nbformat_minor": 5
}
