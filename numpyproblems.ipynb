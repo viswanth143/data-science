{
 "cells": [
  {
   "cell_type": "markdown",
   "metadata": {},
   "source": [
    "# Module: NumPy Assignments\n",
    "## Lesson: NumPy\n",
    "### Assignment 1: Array Creation and Manipulation\n",
    "\n",
    "1. Create a NumPy array of shape (5, 5) filled with random integers between 1 and 20. Replace all the elements in the third column with 1.\n",
    "2. Create a NumPy array of shape (4, 4) with values from 1 to 16. Replace the diagonal elements with 0."
   ]
  },
  {
   "cell_type": "code",
   "execution_count": 3,
   "metadata": {},
   "outputs": [
    {
     "data": {
      "text/plain": [
       "array([[18,  1,  1, 14, 15],\n",
       "       [16, 13,  1,  3, 20],\n",
       "       [ 1, 11,  1, 14, 12],\n",
       "       [10, 19,  1, 10, 19],\n",
       "       [15,  6,  1,  5, 20]])"
      ]
     },
     "execution_count": 3,
     "metadata": {},
     "output_type": "execute_result"
    }
   ],
   "source": [
    "import numpy as np\n",
    "arr1 = np.random.randint(1, 21, (5,5))\n",
    "arr1[:,2] = 1\n",
    "arr1"
   ]
  },
  {
   "cell_type": "code",
   "execution_count": 4,
   "metadata": {},
   "outputs": [
    {
     "data": {
      "text/plain": [
       "array([[ 0,  5, 14,  7],\n",
       "       [ 6,  0, 15, 13],\n",
       "       [ 7, 10,  0,  1],\n",
       "       [ 9,  4, 16,  0]])"
      ]
     },
     "execution_count": 4,
     "metadata": {},
     "output_type": "execute_result"
    }
   ],
   "source": [
    "arr2 = np.random.randint(1,17,(4,4))\n",
    "np.fill_diagonal(arr2,0)\n",
    "arr2"
   ]
  },
  {
   "cell_type": "markdown",
   "metadata": {},
   "source": [
    "### Assignment 2: Array Indexing and Slicing\n",
    "\n",
    "1. Create a NumPy array of shape (6, 6) with values from 1 to 36. Extract the sub-array consisting of the 3rd to 5th rows and 2nd to 4th columns.\n",
    "2. Create a NumPy array of shape (5, 5) with random integers. Extract the elements on the border."
   ]
  },
  {
   "cell_type": "code",
   "execution_count": 4,
   "metadata": {},
   "outputs": [
    {
     "data": {
      "text/plain": [
       "array([[14, 15, 16],\n",
       "       [20, 21, 22],\n",
       "       [26, 27, 28]])"
      ]
     },
     "execution_count": 4,
     "metadata": {},
     "output_type": "execute_result"
    }
   ],
   "source": [
    "\n",
    "import numpy as np\n",
    "\n",
    "# Create a NumPy array of shape (6, 6) with values from 1 to 36\n",
    "arr = np.arange(1, 37).reshape(6, 6)\n",
    "\n",
    "# Extract the sub-array consisting of the 3rd to 5th rows and 2nd to 4th columns\n",
    "sub_array = arr[2:5, 1:4]\n",
    "\n",
    "sub_array\n"
   ]
  },
  {
   "cell_type": "code",
   "execution_count": 6,
   "metadata": {},
   "outputs": [
    {
     "data": {
      "text/plain": [
       "array([14,  1,  2,  8, 18, 19,  4, 20, 11,  7, 17,  9, 20, 18,  3, 19])"
      ]
     },
     "execution_count": 6,
     "metadata": {},
     "output_type": "execute_result"
    }
   ],
   "source": [
    "\n",
    "import numpy as np\n",
    "\n",
    "# Create a NumPy array of shape (5, 5) with random integers between 1 and 20\n",
    "arr = np.random.randint(1, 21, (5, 5))\n",
    "\n",
    "# Extract the elements on the border\n",
    "border_elements = np.concatenate([arr[0, :], arr[-1, :], arr[1:-1, 0], arr[1:-1, -1]])\n",
    "\n",
    "border_elements\n"
   ]
  },
  {
   "cell_type": "markdown",
   "metadata": {},
   "source": [
    "### Assignment 3: Array Operations\n",
    "\n",
    "1. Create two NumPy arrays of shape (3, 4) filled with random integers. Perform element-wise addition, subtraction, multiplication, and division.\n",
    "2. Create a NumPy array of shape (4, 4) with values from 1 to 16. Compute the row-wise and column-wise sum."
   ]
  },
  {
   "cell_type": "code",
   "execution_count": 8,
   "metadata": {},
   "outputs": [
    {
     "data": {
      "text/plain": [
       "(array([[1, 9, 9, 3],\n",
       "        [5, 2, 8, 2],\n",
       "        [2, 1, 9, 5]]),\n",
       " array([[ 3,  8,  4,  5],\n",
       "        [ 1,  7,  3, 10],\n",
       "        [ 9,  7,  1,  8]]),\n",
       " array([[ 4, 17, 13,  8],\n",
       "        [ 6,  9, 11, 12],\n",
       "        [11,  8, 10, 13]]),\n",
       " array([[-2,  1,  5, -2],\n",
       "        [ 4, -5,  5, -8],\n",
       "        [-7, -6,  8, -3]]),\n",
       " array([[ 3, 72, 36, 15],\n",
       "        [ 5, 14, 24, 20],\n",
       "        [18,  7,  9, 40]]),\n",
       " array([[0.33333333, 1.125     , 2.25      , 0.6       ],\n",
       "        [5.        , 0.28571429, 2.66666667, 0.2       ],\n",
       "        [0.22222222, 0.14285714, 9.        , 0.625     ]]))"
      ]
     },
     "execution_count": 8,
     "metadata": {},
     "output_type": "execute_result"
    }
   ],
   "source": [
    "\n",
    "import numpy as np\n",
    "\n",
    "# Create two NumPy arrays of shape (3, 4) filled with random integers between 1 and 10\n",
    "arr1 = np.random.randint(1, 11, (3, 4))\n",
    "arr2 = np.random.randint(1, 11, (3, 4))\n",
    "\n",
    "# Perform element-wise addition\n",
    "add_result = arr1 + arr2\n",
    "\n",
    "# Perform element-wise subtraction\n",
    "sub_result = arr1 - arr2\n",
    "\n",
    "# Perform element-wise multiplication\n",
    "mul_result = arr1 * arr2\n",
    "\n",
    "# Perform element-wise division (avoid division by zero)\n",
    "div_result = np.divide(arr1, arr2, where=arr2 != 0)\n",
    "\n",
    "arr1, arr2, add_result, sub_result, mul_result, div_result\n"
   ]
  },
  {
   "cell_type": "code",
   "execution_count": 9,
   "metadata": {},
   "outputs": [
    {
     "data": {
      "text/plain": [
       "(array([[ 1,  2,  3,  4],\n",
       "        [ 5,  6,  7,  8],\n",
       "        [ 9, 10, 11, 12],\n",
       "        [13, 14, 15, 16]]),\n",
       " array([10, 26, 42, 58]),\n",
       " array([28, 32, 36, 40]))"
      ]
     },
     "execution_count": 9,
     "metadata": {},
     "output_type": "execute_result"
    }
   ],
   "source": [
    "\n",
    "# Create a NumPy array of shape (4, 4) with values from 1 to 16\n",
    "arr3 = np.arange(1, 17).reshape(4, 4)\n",
    "\n",
    "# Compute the row-wise sum\n",
    "row_sum = arr3.sum(axis=1)\n",
    "\n",
    "# Compute the column-wise sum\n",
    "col_sum = arr3.sum(axis=0)\n",
    "\n",
    "arr3, row_sum, col_sum\n"
   ]
  },
  {
   "cell_type": "markdown",
   "metadata": {},
   "source": [
    "### Assignment 4: Statistical Operations\n",
    "\n",
    "1. Create a NumPy array of shape (5, 5) filled with random integers. Compute the mean, median, standard deviation, and variance of the array.\n",
    "2. Create a NumPy array of shape (3, 3) with values from 1 to 9. Normalize the array (i.e., scale the values to have a mean of 0 and a standard deviation of 1)."
   ]
  },
  {
   "cell_type": "code",
   "execution_count": 12,
   "metadata": {},
   "outputs": [
    {
     "data": {
      "text/plain": [
       "(array([[45, 34, 15, 37, 94],\n",
       "        [71, 49, 50, 90, 75],\n",
       "        [91, 61, 63,  9, 12],\n",
       "        [21, 94,  3, 58, 80],\n",
       "        [63, 60, 35, 81, 12]]),\n",
       " 52.12,\n",
       " 58.0,\n",
       " 28.362397641948398,\n",
       " 804.4256)"
      ]
     },
     "execution_count": 12,
     "metadata": {},
     "output_type": "execute_result"
    }
   ],
   "source": [
    "\n",
    "\n",
    "import numpy as np\n",
    "\n",
    "# Create a NumPy array of shape (5, 5) filled with random integers between 1 and 100\n",
    "arr1 = np.random.randint(1, 101, (5, 5))\n",
    "\n",
    "# Compute the mean\n",
    "mean = np.mean(arr1)\n",
    "\n",
    "# Compute the median\n",
    "median = np.median(arr1)\n",
    "\n",
    "# Compute the standard deviation\n",
    "std_dev = np.std(arr1)\n",
    "\n",
    "# Compute the variance\n",
    "variance = np.var(arr1)\n",
    "\n",
    "arr1, mean, median, std_dev, variance\n",
    "\n",
    "\n"
   ]
  },
  {
   "cell_type": "code",
   "execution_count": null,
   "metadata": {},
   "outputs": [],
   "source": [
    "\n",
    "#Create a NumPy array of shape (3, 3) with values from 1 to 9\n",
    "arr2 = np.arange(1, 10).reshape(3, 3)\n",
    "\n",
    "# Normalize the array (scale to have mean 0 and standard deviation 1)\n",
    "normalized_arr = (arr2 - np.mean(arr2)) / np.std(arr2)\n",
    "\n",
    "arr2, normalized_arr\n"
   ]
  },
  {
   "cell_type": "markdown",
   "metadata": {},
   "source": [
    "\n",
    "### Assignment 5: Broadcasting\n",
    "\n",
    "1. Create a NumPy array of shape (3, 3) filled with random integers. Add a 1D array of shape (3,) to each row of the 2D array using broadcasting.\n",
    "2. Create a NumPy array of shape (4, 4) filled with random integers. Subtract a 1D array of shape (4,) from each column of the 2D array using broadcasting.\n"
   ]
  },
  {
   "cell_type": "code",
   "execution_count": null,
   "metadata": {},
   "outputs": [],
   "source": [
    "\n",
    "import numpy as np\n",
    "\n",
    "# Create a NumPy array of shape (3, 3) filled with random integers between 1 and 10\n",
    "arr_2d = np.random.randint(1, 11, (3, 3))\n",
    "\n",
    "# Create a 1D array of shape (3,)\n",
    "arr_1d = np.array([1, 2, 3])\n",
    "\n",
    "# Add the 1D array to each row of the 2D array using broadcasting\n",
    "result_add = arr_2d + arr_1d\n",
    "\n",
    "arr_2d, arr_1d, result_add\n"
   ]
  },
  {
   "cell_type": "code",
   "execution_count": null,
   "metadata": {},
   "outputs": [],
   "source": [
    "\n",
    "# Create a NumPy array of shape (4, 4) filled with random integers between 1 and 10\n",
    "arr_2d_4x4 = np.random.randint(1, 11, (4, 4))\n",
    "\n",
    "# Create a 1D array of shape (4,)\n",
    "arr_1d_4 = np.array([1, 2, 3, 4])\n",
    "\n",
    "# Subtract the 1D array from each column of the 2D array using broadcasting\n",
    "result_subtract = arr_2d_4x4 - arr_1d_4\n",
    "\n",
    "arr_2d_4x4, arr_1d_4, result_subtract\n"
   ]
  },
  {
   "cell_type": "markdown",
   "metadata": {},
   "source": [
    "\n",
    "### Assignment 6: Linear Algebra\n",
    "\n",
    "1. Create a NumPy array of shape (3, 3) representing a matrix. Compute its determinant, inverse, and eigenvalues.\n",
    "2. Create two NumPy arrays of shape (2, 3) and (3, 2). Perform matrix multiplication on these arrays."
   ]
  },
  {
   "cell_type": "code",
   "execution_count": null,
   "metadata": {},
   "outputs": [],
   "source": [
    "\n",
    "import numpy as np\n",
    "\n",
    "# Create a NumPy array of shape (3, 3) representing a matrix\n",
    "matrix_3x3 = np.random.randint(1, 11, (3, 3))\n",
    "\n",
    "# Compute the determinant\n",
    "determinant = np.linalg.det(matrix_3x3)\n",
    "\n",
    "# Compute the inverse (only if the determinant is non-zero)\n",
    "if determinant != 0:\n",
    "    inverse = np.linalg.inv(matrix_3x3)\n",
    "else:\n",
    "    inverse = None\n",
    "\n",
    "# Compute the eigenvalues\n",
    "eigenvalues, eigenvectors = np.linalg.eig(matrix_3x3)\n",
    "\n",
    "matrix_3x3, determinant, inverse, eigenvalues\n"
   ]
  },
  {
   "cell_type": "code",
   "execution_count": null,
   "metadata": {},
   "outputs": [],
   "source": [
    "\n",
    "# Create two NumPy arrays\n",
    "arr1 = np.random.randint(1, 11, (2, 3))  # Shape (2, 3)\n",
    "arr2 = np.random.randint(1, 11, (3, 2))  # Shape (3, 2)\n",
    "\n",
    "# Perform matrix multiplication\n",
    "result_multiplication = np.dot(arr1, arr2)\n",
    "\n",
    "arr1, arr2, result_multiplication\n"
   ]
  },
  {
   "cell_type": "markdown",
   "metadata": {},
   "source": [
    "### Assignment 7: Advanced Array Manipulation\n",
    "\n",
    "1. Create a NumPy array of shape (3, 3) with values from 1 to 9. Reshape the array to shape (1, 9) and then to shape (9, 1).\n",
    "2. Create a NumPy array of shape (5, 5) filled with random integers. Flatten the array and then reshape it back to (5, 5)."
   ]
  },
  {
   "cell_type": "code",
   "execution_count": null,
   "metadata": {},
   "outputs": [],
   "source": [
    "\n",
    "import numpy as np\n",
    "\n",
    "# Create a NumPy array of shape (3, 3) with values from 1 to 9\n",
    "arr_3x3 = np.arange(1, 10).reshape(3, 3)\n",
    "\n",
    "# Reshape the array to shape (1, 9)\n",
    "reshaped_1x9 = arr_3x3.reshape(1, 9)\n",
    "\n",
    "# Reshape the array to shape (9, 1)\n",
    "reshaped_9x1 = arr_3x3.reshape(9, 1)\n",
    "\n",
    "arr_3x3, reshaped_1x9, reshaped_9x1\n"
   ]
  },
  {
   "cell_type": "code",
   "execution_count": null,
   "metadata": {},
   "outputs": [],
   "source": [
    "\n",
    "# Create a NumPy array of shape (5, 5) filled with random integers between 1 and 100\n",
    "arr_5x5 = np.random.randint(1, 101, (5, 5))\n",
    "\n",
    "# Flatten the array\n",
    "flattened_arr = arr_5x5.flatten()\n",
    "\n",
    "# Reshape it back to shape (5, 5)\n",
    "reshaped_5x5 = flattened_arr.reshape(5, 5)\n",
    "\n",
    "arr_5x5, flattened_arr, reshaped_5x5\n"
   ]
  },
  {
   "cell_type": "markdown",
   "metadata": {},
   "source": [
    "### Assignment 8: Fancy Indexing and Boolean Indexing\n",
    "\n",
    "1. Create a NumPy array of shape (5, 5) filled with random integers. Use fancy indexing to extract the elements at the corners of the array.\n",
    "2. Create a NumPy array of shape (4, 4) filled with random integers. Use boolean indexing to set all elements greater than 10 to 10."
   ]
  },
  {
   "cell_type": "code",
   "execution_count": 13,
   "metadata": {},
   "outputs": [
    {
     "data": {
      "text/plain": [
       "(array([[ 2,  3,  4,  8, 18],\n",
       "        [17, 13, 16,  2, 10],\n",
       "        [13,  1, 15, 20, 10],\n",
       "        [13,  5,  4, 20, 14],\n",
       "        [ 7,  2, 12,  5,  2]]),\n",
       " array([ 2, 18,  7,  2]))"
      ]
     },
     "execution_count": 13,
     "metadata": {},
     "output_type": "execute_result"
    }
   ],
   "source": [
    "\n",
    "import numpy as np\n",
    "\n",
    "# Create a NumPy array of shape (5, 5) filled with random integers between 1 and 20\n",
    "arr_5x5 = np.random.randint(1, 21, (5, 5))\n",
    "\n",
    "# Use fancy indexing to extract the elements at the corners of the array\n",
    "corners = arr_5x5[[0, 0, -1, -1], [0, -1, 0, -1]]\n",
    "\n",
    "arr_5x5, corners\n"
   ]
  },
  {
   "cell_type": "code",
   "execution_count": null,
   "metadata": {},
   "outputs": [],
   "source": [
    "\n",
    "# Create a NumPy array of shape (4, 4) filled with random integers between 1 and 20\n",
    "arr_4x4 = np.random.randint(1, 21, (4, 4))\n",
    "\n",
    "# Use boolean indexing to set all elements greater than 10 to 10\n",
    "arr_4x4[arr_4x4 > 10] = 10\n",
    "\n",
    "arr_4x4\n"
   ]
  },
  {
   "cell_type": "markdown",
   "metadata": {},
   "source": [
    "### Assignment 9: Structured Arrays\n",
    "\n",
    "1. Create a structured array with fields 'name' (string), 'age' (integer), and 'weight' (float). Add some data and sort the array by age.\n",
    "2. Create a structured array with fields 'x' and 'y' (both integers). Add some data and compute the Euclidean distance between each pair of points."
   ]
  },
  {
   "cell_type": "code",
   "execution_count": null,
   "metadata": {},
   "outputs": [],
   "source": [
    "\n",
    "import numpy as np\n",
    "\n",
    "# Define a structured array with fields 'name', 'age', and 'weight'\n",
    "dtype = [('name', 'U10'), ('age', 'i4'), ('weight', 'f4')]\n",
    "\n",
    "# Create some sample data\n",
    "data = [\n",
    "    ('vishnu', 25, 55.5),\n",
    "    ('shiva', 30, 75.2),\n",
    "    ('krishna', 20, 65.3),\n",
    "    ('ram', 25, 85.0)\n",
    "]\n",
    "\n",
    "# Create the structured array\n",
    "structured_arr = np.array(data, dtype=dtype)\n",
    "\n",
    "# Sort the array by 'age' field\n",
    "sorted_arr = np.sort(structured_arr, order='age')\n",
    "\n",
    "structured_arr, sorted_arr\n"
   ]
  },
  {
   "cell_type": "code",
   "execution_count": null,
   "metadata": {},
   "outputs": [],
   "source": [
    "\n",
    "# Define a structured array with fields 'x' and 'y'\n",
    "dtype_points = [('x', 'i4'), ('y', 'i4')]\n",
    "\n",
    "# Create some sample points data\n",
    "points_data = [\n",
    "    (1, 2),\n",
    "    (4, 6),\n",
    "    (7, 8),\n",
    "    (2, 1)\n",
    "]\n",
    "\n",
    "# Create the structured array for points\n",
    "points_arr = np.array(points_data, dtype=dtype_points)\n",
    "\n",
    "# Compute the Euclidean distance between each pair of points\n",
    "distances = np.sqrt(\n",
    "    (points_arr['x'][:, np.newaxis] - points_arr['x'])**2 + \n",
    "    (points_arr['y'][:, np.newaxis] - points_arr['y'])**2\n",
    ")\n",
    "\n",
    "points_arr, distances\n"
   ]
  },
  {
   "cell_type": "markdown",
   "metadata": {},
   "source": [
    "### Assignment 10: Masked Arrays\n",
    "\n",
    "1. Create a masked array of shape (4, 4) with random integers and mask the elements greater than 10. Compute the sum of the unmasked elements.\n",
    "2. Create a masked array of shape (3, 3) with random integers and mask the diagonal elements. Replace the masked elements with the mean of the unmasked elements."
   ]
  },
  {
   "cell_type": "code",
   "execution_count": null,
   "metadata": {},
   "outputs": [],
   "source": [
    "\n",
    "import numpy as np\n",
    "import numpy.ma as ma\n",
    "\n",
    "# Create a 4x4 array of random integers between 1 and 20\n",
    "arr_4x4 = np.random.randint(1, 21, (4, 4))\n",
    "\n",
    "# Mask the elements greater than 10\n",
    "masked_arr = ma.masked_where(arr_4x4 > 10, arr_4x4)\n",
    "\n",
    "# Compute the sum of the unmasked elements\n",
    "sum_unmasked = masked_arr.sum()\n",
    "\n",
    "arr_4x4, masked_arr, sum_unmasked\n"
   ]
  },
  {
   "cell_type": "code",
   "execution_count": null,
   "metadata": {},
   "outputs": [],
   "source": [
    "# %%\n",
    "# Create a 3x3 array of random integers between 1 and 20\n",
    "arr_3x3 = np.random.randint(1, 21, (3, 3))\n",
    "\n",
    "# Mask the diagonal elements\n",
    "masked_diag = ma.masked_array(arr_3x3, mask=np.eye(3, dtype=bool))\n",
    "\n",
    "# Compute the mean of the unmasked elements\n",
    "mean_unmasked = masked_diag.mean()\n",
    "\n",
    "# Replace the masked diagonal elements with the mean of the unmasked elements\n",
    "masked_diag_filled = masked_diag.filled(mean_unmasked)\n",
    "\n",
    "arr_3x3, masked_diag, mean_unmasked, masked_diag_filled\n"
   ]
  }
 ],
 "metadata": {
  "kernelspec": {
   "display_name": "Python 3",
   "language": "python",
   "name": "python3"
  },
  "language_info": {
   "codemirror_mode": {
    "name": "ipython",
    "version": 3
   },
   "file_extension": ".py",
   "mimetype": "text/x-python",
   "name": "python",
   "nbconvert_exporter": "python",
   "pygments_lexer": "ipython3",
   "version": "3.9.7"
  }
 },
 "nbformat": 4,
 "nbformat_minor": 2
}
