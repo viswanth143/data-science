{
 "cells": [
  {
   "cell_type": "markdown",
   "metadata": {},
   "source": [
    " Write a Python program to convert Celsius to Fahrenheit."
   ]
  },
  {
   "cell_type": "code",
   "execution_count": 2,
   "metadata": {},
   "outputs": [
    {
     "name": "stdout",
     "output_type": "stream",
     "text": [
      "77.0\n"
     ]
    }
   ],
   "source": [
    "# Your code here\n",
    "def convert_temperature(temp,unit):\n",
    "    if unit =='C':\n",
    "        return temp * 9/5 + 32 #celcius to farenheit\n",
    "    \n",
    "    elif unit=='F':\n",
    "        return(temp-32)*5/9 #farenheit to celcius\n",
    "    else:\n",
    "        return None\n",
    "print(convert_temperature(25,'C'))    "
   ]
  },
  {
   "cell_type": "markdown",
   "metadata": {},
   "source": [
    "2.Password strength checker program"
   ]
  },
  {
   "cell_type": "code",
   "execution_count": 5,
   "metadata": {},
   "outputs": [
    {
     "name": "stdout",
     "output_type": "stream",
     "text": [
      "True\n"
     ]
    }
   ],
   "source": [
    "# Your code here\n",
    "def is_strong_password(password):\n",
    "    ''' this function that password is strong or not'''\n",
    "    if len(password)<9:\n",
    "        return False\n",
    "    if not any (char.isdigit() for char in password):\n",
    "        return False\n",
    "    if not any (char.islower() for char in password):\n",
    "        return False\n",
    "    if not any (char.isupper() for char in password):\n",
    "        return False\n",
    "    return True\n",
    "\n",
    "print(is_strong_password('krisHna1rw'))"
   ]
  },
  {
   "cell_type": "markdown",
   "metadata": {},
   "source": [
    ":** Total Cost of items in shopping cart"
   ]
  },
  {
   "cell_type": "code",
   "execution_count": 4,
   "metadata": {},
   "outputs": [
    {
     "name": "stdout",
     "output_type": "stream",
     "text": [
      "8.0\n"
     ]
    }
   ],
   "source": [
    "# Your code here\n",
    "# Function to check the type using isinstance()\n",
    "def caluclate_total_cost(cart):\n",
    "    total_cost = 0\n",
    "    for item in cart:\n",
    "        total_cost += item['price']* item['qunatity']\n",
    "    return total_cost\n",
    "\n",
    "\n",
    "cart=[\n",
    "    {'name': 'Apple', 'price':0.5,'qunatity':5},\n",
    "    {'name': 'redApple', 'price':0.5,'qunatity':7},\n",
    "    {'name': 'orange', 'price':0.5,'qunatity':4},\n",
    "]\n",
    "\n",
    "total_cost=caluclate_total_cost(cart)\n",
    "print(total_cost)\n"
   ]
  },
  {
   "cell_type": "markdown",
   "metadata": {},
   "source": [
    "Factorials of number using Recursion."
   ]
  },
  {
   "cell_type": "code",
   "execution_count": 8,
   "metadata": {},
   "outputs": [],
   "source": [
    "# Your code here\n",
    "def factorial(n):\n",
    "    if n==0:\n",
    "        return 1\n",
    "    else:\n",
    "        return n * factorial(n-1)\n",
    "    \n"
   ]
  },
  {
   "cell_type": "markdown",
   "metadata": {},
   "source": [
    "*:** Check if string is Palindrome or not"
   ]
  },
  {
   "cell_type": "code",
   "execution_count": 7,
   "metadata": {},
   "outputs": [
    {
     "name": "stdout",
     "output_type": "stream",
     "text": [
      "True\n"
     ]
    }
   ],
   "source": [
    "# Your code here\n",
    "def check_palindrome(s):\n",
    "    s=s.lower().replace(' ','')\n",
    "    return s==s[::-1]\n",
    "print(check_palindrome('tat'))"
   ]
  }
 ],
 "metadata": {
  "kernelspec": {
   "display_name": "Python 3",
   "language": "python",
   "name": "python3"
  },
  "language_info": {
   "codemirror_mode": {
    "name": "ipython",
    "version": 3
   },
   "file_extension": ".py",
   "mimetype": "text/x-python",
   "name": "python",
   "nbconvert_exporter": "python",
   "pygments_lexer": "ipython3",
   "version": "3.12.0"
  }
 },
 "nbformat": 4,
 "nbformat_minor": 4
}
