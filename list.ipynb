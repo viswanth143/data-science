{
 "cells": [
  {
   "cell_type": "markdown",
   "id": "f0bccb73",
   "metadata": {},
   "source": [
    "# Module 3: Data Structures Assignments\n",
    "## Lesson 3.1: Lists\n",
    "### Assignment 1: Creating and Accessing Lists\n",
    "\n",
    "Create a list of the first 20 positive integers. Print the list."
   ]
  },
  {
   "cell_type": "code",
   "execution_count": 3,
   "id": "2e72f943",
   "metadata": {},
   "outputs": [
    {
     "name": "stdout",
     "output_type": "stream",
     "text": [
      "[1, 2, 3, 4, 5, 6, 7, 8, 9, 10, 11, 12, 13, 14, 15, 16, 17, 18, 19, 20]\n"
     ]
    }
   ],
   "source": [
    "# Creating a list of the first 20 positive integers\n",
    "first_integers = list(range(1, 21))\n",
    "\n",
    "# Printing the list\n",
    "print(first_integers)\n"
   ]
  },
  {
   "cell_type": "markdown",
   "id": "3f857239",
   "metadata": {},
   "source": [
    "### Assignment 2: Accessing List Elements\n",
    "\n",
    "Print the first, middle, and last elements of the list created in Assignment 1."
   ]
  },
  {
   "cell_type": "code",
   "execution_count": 6,
   "id": "c1501d6d",
   "metadata": {},
   "outputs": [
    {
     "name": "stdout",
     "output_type": "stream",
     "text": [
      "First element: 1\n",
      "Middle element: 11\n",
      "Last element: 20\n"
     ]
    }
   ],
   "source": [
    "# Creating a list of the first 20 positive integers\n",
    "first_integers = list(range(1, 21))\n",
    "\n",
    "# Accessing the first, middle, and last elements\n",
    "first_element = first_integers[0]\n",
    "middle_element = first_integers[len(first_integers) // 2]\n",
    "last_element = first_integers[-1]\n",
    "\n",
    "# Printing the results\n",
    "print(\"First element:\", first_element)\n",
    "print(\"Middle element:\", middle_element)\n",
    "print(\"Last element:\", last_element)\n",
    "\n"
   ]
  },
  {
   "cell_type": "markdown",
   "id": "86596bde",
   "metadata": {},
   "source": [
    "### Assignment 3: List Slicing\n",
    "\n",
    "Print the first five elements, the last five elements, and the elements from index 5 to 15 of the list created in Assignment 1."
   ]
  },
  {
   "cell_type": "code",
   "execution_count": 7,
   "id": "f240ed9f",
   "metadata": {},
   "outputs": [
    {
     "name": "stdout",
     "output_type": "stream",
     "text": [
      "First element: [1, 2, 3, 4, 5]\n",
      "Middle element: [6, 7, 8, 9, 10, 11, 12, 13, 14, 15, 16]\n",
      "Last element: [16, 17, 18, 19, 20]\n"
     ]
    }
   ],
   "source": [
    "\n",
    "first_integers = list(range(1, 21))\n",
    "\n",
    "# Accessing the first, middle, and last elements\n",
    "first_element = first_integers[0:5]\n",
    "middle_element = first_integers[5:16]\n",
    "last_element = first_integers[-5:]\n",
    "\n",
    "# Printing the results\n",
    "print(\"First element:\", first_element)\n",
    "print(\"Middle element:\", middle_element)\n",
    "print(\"Last element:\", last_element)\n"
   ]
  },
  {
   "cell_type": "markdown",
   "id": "5a59c31e",
   "metadata": {},
   "source": [
    "### Assignment 4: List Comprehensions\n",
    "\n",
    "Create a new list containing the squares of the first 10 positive integers using a list comprehension. Print the new list."
   ]
  },
  {
   "cell_type": "code",
   "execution_count": 10,
   "id": "dad0e7a8",
   "metadata": {},
   "outputs": [
    {
     "name": "stdout",
     "output_type": "stream",
     "text": [
      "[1, 4, 9, 16, 25, 36, 49, 64, 81, 100]\n"
     ]
    }
   ],
   "source": [
    "square = [num**2 for num in range(1,11)]\n",
    "print(square)"
   ]
  },
  {
   "cell_type": "markdown",
   "id": "a3a90214",
   "metadata": {},
   "source": [
    "### Assignment 5: Filtering Lists\n",
    "\n",
    "Create a new list containing only the even numbers from the list created in Assignment 1 using a list comprehension. Print the new list."
   ]
  },
  {
   "cell_type": "code",
   "execution_count": 11,
   "id": "d779919e",
   "metadata": {},
   "outputs": [
    {
     "name": "stdout",
     "output_type": "stream",
     "text": [
      "[2, 4, 6, 8, 10, 12, 14, 16, 18, 20]\n"
     ]
    }
   ],
   "source": [
    "# Creating a list of the first 20 positive integers\n",
    "first_20_integers = list(range(1, 21))\n",
    "\n",
    "# Using list comprehension to filter even numbers\n",
    "even_numbers = [num for num in first_20_integers if num % 2 == 0]\n",
    "\n",
    "# Printing the new list\n",
    "print(even_numbers)\n"
   ]
  },
  {
   "cell_type": "markdown",
   "id": "333fa5c4",
   "metadata": {},
   "source": [
    "### Assignment 6: List Methods\n",
    "\n",
    "Create a list of random numbers and sort it in ascending and descending order. Remove the duplicates from the list and print the modified list."
   ]
  },
  {
   "cell_type": "code",
   "execution_count": 12,
   "id": "98ef6161",
   "metadata": {},
   "outputs": [
    {
     "name": "stdout",
     "output_type": "stream",
     "text": [
      "Original List: [12, 4, 7, 4, 15, 7, 9, 4, 2, 15, 8, 9]\n",
      "Ascending Order: [2, 4, 4, 4, 7, 7, 8, 9, 9, 12, 15, 15]\n",
      "Descending Order: [15, 15, 12, 9, 9, 8, 7, 7, 4, 4, 4, 2]\n",
      "List without Duplicates: [2, 4, 7, 8, 9, 12, 15]\n"
     ]
    }
   ],
   "source": [
    "# Creating a list of random numbers\n",
    "random_numbers = [12, 4, 7, 4, 15, 7, 9, 4, 2, 15, 8, 9]\n",
    "\n",
    "# Sorting in ascending order\n",
    "ascending_order = sorted(random_numbers)\n",
    "\n",
    "# Sorting in descending order\n",
    "descending_order = sorted(random_numbers, reverse=True)\n",
    "\n",
    "# Removing duplicates by converting the list to a set and back to a list\n",
    "unique_numbers = list(set(random_numbers))\n",
    "\n",
    "# Printing the modified lists\n",
    "print(\"Original List:\", random_numbers)\n",
    "print(\"Ascending Order:\", ascending_order)\n",
    "print(\"Descending Order:\", descending_order)\n",
    "print(\"List without Duplicates:\", unique_numbers)\n",
    "\n"
   ]
  },
  {
   "cell_type": "markdown",
   "id": "d2f0449b",
   "metadata": {},
   "source": [
    "### Assignment 7: Nested Lists\n",
    "\n",
    "Create a nested list representing a 3x3 matrix and print the matrix. Access and print the element at the second row and third column."
   ]
  },
  {
   "cell_type": "code",
   "execution_count": 13,
   "id": "9af86fb1",
   "metadata": {},
   "outputs": [
    {
     "name": "stdout",
     "output_type": "stream",
     "text": [
      "Element at second row and third column: 6\n"
     ]
    }
   ],
   "source": [
    "# Standard 3x3 matrix using nested lists\n",
    "matrix = [\n",
    "    [1, 2, 3],\n",
    "    [4, 5, 6],\n",
    "    [7, 8, 9]\n",
    "]\n",
    "\n",
    "# Accessing an element (second row, third column)\n",
    "element = matrix[1][2]  # Indexing starts at 0\n",
    "print(\"Element at second row and third column:\", element)\n"
   ]
  },
  {
   "cell_type": "markdown",
   "id": "42a03341",
   "metadata": {},
   "source": [
    "### Assignment 8: List of Dictionaries\n",
    "\n",
    "Create a list of dictionaries where each dictionary represents a student with keys 'name' and 'score'. Sort the list of dictionaries by the 'score' in descending order and print the sorted list."
   ]
  },
  {
   "cell_type": "code",
   "execution_count": 14,
   "id": "d6fe2305",
   "metadata": {},
   "outputs": [
    {
     "name": "stdout",
     "output_type": "stream",
     "text": [
      "Sorted Students (using list comprehension):\n",
      "{'name': 'Bob', 'score': 92}\n",
      "{'name': 'David', 'score': 91}\n",
      "{'name': 'Eva', 'score': 88}\n",
      "{'name': 'Alice', 'score': 85}\n",
      "{'name': 'Charlie', 'score': 78}\n"
     ]
    }
   ],
   "source": [
    "# List of dictionaries representing students\n",
    "students = [\n",
    "    {'name': 'Alice', 'score': 85},\n",
    "    {'name': 'Bob', 'score': 92},\n",
    "    {'name': 'Charlie', 'score': 78},\n",
    "    {'name': 'David', 'score': 91},\n",
    "    {'name': 'Eva', 'score': 88}\n",
    "]\n",
    "\n",
    "# Using list comprehension to sort by 'score' in descending order\n",
    "sorted_students = [student for student in sorted(students, key=lambda x: x['score'], reverse=True)]\n",
    "\n",
    "# Printing the sorted list\n",
    "print(\"Sorted Students (using list comprehension):\")\n",
    "for student in sorted_students:\n",
    "    print(student)\n"
   ]
  },
  {
   "cell_type": "markdown",
   "id": "8193995a",
   "metadata": {},
   "source": [
    "### Assignment 9: Matrix Transposition\n",
    "\n",
    "Write a function that takes a 3x3 matrix (nested list) as input and returns its transpose. Print the original and transposed matrices."
   ]
  },
  {
   "cell_type": "code",
   "execution_count": 15,
   "id": "b020756b",
   "metadata": {},
   "outputs": [
    {
     "name": "stdout",
     "output_type": "stream",
     "text": [
      "Original Matrix:\n",
      "[1, 2, 3]\n",
      "[4, 5, 6]\n",
      "[7, 8, 9]\n",
      "\n",
      "Transposed Matrix:\n",
      "[1, 4, 7]\n",
      "[2, 5, 8]\n",
      "[3, 6, 9]\n"
     ]
    }
   ],
   "source": [
    "def transpose_matrix(matrix):\n",
    "    # Using list comprehension to transpose the matrix\n",
    "    return [[matrix[j][i] for j in range(len(matrix))] for i in range(len(matrix[0]))]\n",
    "\n",
    "# 3x3 matrix (nested list)\n",
    "matrix = [\n",
    "    [1, 2, 3],\n",
    "    [4, 5, 6],\n",
    "    [7, 8, 9]\n",
    "]\n",
    "\n",
    "# Transposing the matrix\n",
    "transposed_matrix = transpose_matrix(matrix)\n",
    "\n",
    "# Printing the original matrix\n",
    "print(\"Original Matrix:\")\n",
    "for row in matrix:\n",
    "    print(row)\n",
    "\n",
    "# Printing the transposed matrix\n",
    "print(\"\\nTransposed Matrix:\")\n",
    "for row in transposed_matrix:\n",
    "    print(row)\n",
    "\n"
   ]
  },
  {
   "cell_type": "markdown",
   "id": "8ebc6474",
   "metadata": {},
   "source": [
    "### Assignment 10: Flattening a Nested List\n",
    "\n",
    "Write a function that takes a nested list and flattens it into a single list. Print the original and flattened lists."
   ]
  },
  {
   "cell_type": "code",
   "execution_count": null,
   "id": "e59d4192",
   "metadata": {},
   "outputs": [],
   "source": [
    "def flatten_list(nested_list):\n",
    "    # Flattening using list comprehension\n",
    "    return [item for sublist in nested_list for item in (sublist if isinstance(sublist, list) else [sublist])]\n",
    "\n",
    "# Example of a nested list\n",
    "nested_list = [[1, 2, 3], [4, 5], [6, [7, 8], 9], 10]\n",
    "\n",
    "# Flattening the nested list\n",
    "flattened = flatten_list(nested_list)\n",
    "\n",
    "# Printing the original and flattened lists\n",
    "print(\"Original Nested List:\")\n",
    "print(nested_list)\n",
    "\n",
    "print(\"\\nFlattened List:\")\n",
    "print(flattened)\n"
   ]
  },
  {
   "cell_type": "markdown",
   "id": "3e2b1e66",
   "metadata": {},
   "source": [
    "### Assignment 11: List Manipulation\n",
    "\n",
    "Create a list of the first 10 positive integers. Remove the elements at indices 2, 4, and 6, and insert the element '99' at index 5. Print the modified list."
   ]
  },
  {
   "cell_type": "code",
   "execution_count": null,
   "id": "704de613",
   "metadata": {},
   "outputs": [],
   "source": [
    "# Step 1: Create a list of the first 10 positive integers\n",
    "numbers = [1, 2, 3, 4, 5, 6, 7, 8, 9, 10]\n",
    "\n",
    "# Step 2: Remove elements at indices 2, 4, and 6 (note that the list shrinks after each removal)\n",
    "# We must remove from the highest index to the lowest to avoid shifting the indices.\n",
    "numbers.pop(6)  # Remove element at index 6\n",
    "numbers.pop(4)  # Remove element at index 4\n",
    "numbers.pop(2)  # Remove element at index 2\n",
    "\n",
    "# Step 3: Insert '99' at index 5\n",
    "numbers.insert(5, 99)\n",
    "\n",
    "# Step 4: Print the modified list\n",
    "print(\"Modified List:\")\n",
    "print(numbers)\n"
   ]
  },
  {
   "cell_type": "markdown",
   "id": "9264d20e",
   "metadata": {},
   "source": [
    "### Assignment 12: List Zipping\n",
    "\n",
    "Create two lists of the same length. Use the `zip` function to combine these lists into a list of tuples and print the result."
   ]
  },
  {
   "cell_type": "code",
   "execution_count": 16,
   "id": "ae12f294",
   "metadata": {},
   "outputs": [
    {
     "name": "stdout",
     "output_type": "stream",
     "text": [
      "Zipped List:\n",
      "[(1, 'a'), (2, 'b'), (3, 'c'), (4, 'd'), (5, 'e')]\n"
     ]
    }
   ],
   "source": [
    "# Create two lists of the same length\n",
    "list1 = [1, 2, 3, 4, 5]\n",
    "list2 = ['a', 'b', 'c', 'd', 'e']\n",
    "\n",
    "# Use zip to combine the two lists into a list of tuples\n",
    "zipped_list = list(zip(list1, list2))\n",
    "\n",
    "# Print the result\n",
    "print(\"Zipped List:\")\n",
    "print(zipped_list)\n"
   ]
  },
  {
   "cell_type": "markdown",
   "id": "499ae9a0",
   "metadata": {},
   "source": [
    "### Assignment 13: List Reversal\n",
    "\n",
    "Write a function that takes a list and returns a new list with the elements in reverse order. Print the original and reversed lists."
   ]
  },
  {
   "cell_type": "code",
   "execution_count": null,
   "id": "a41dd2e9",
   "metadata": {},
   "outputs": [],
   "source": [
    "def reverse_list(input_list):\n",
    "    # Returning a new list with the elements in reverse order\n",
    "    return input_list[::-1]\n",
    "\n",
    "# Example list\n",
    "original_list = [1, 2, 3, 4, 5]\n",
    "\n",
    "# Reversing the list using the function\n",
    "reversed_list = reverse_list(original_list)\n",
    "\n",
    "# Printing the original and reversed lists\n",
    "print(\"Original List:\")\n",
    "print(original_list)\n",
    "\n",
    "print(\"\\nReversed List:\")\n",
    "print(reversed_list)\n"
   ]
  },
  {
   "cell_type": "markdown",
   "id": "22d71d2d",
   "metadata": {},
   "source": [
    "### Assignment 14: List Rotation\n",
    "\n",
    "Write a function that rotates a list by n positions. Print the original and rotated lists."
   ]
  },
  {
   "cell_type": "code",
   "execution_count": null,
   "id": "0a226ff9",
   "metadata": {},
   "outputs": [],
   "source": [
    "def rotate_list(input_list, n):\n",
    "    # Handle negative rotations and n greater than list length\n",
    "    n = n % len(input_list)  # In case n is larger than the length of the list\n",
    "    return input_list[-n:] + input_list[:-n]\n",
    "\n",
    "# Example list\n",
    "original_list = [1, 2, 3, 4, 5]\n",
    "\n",
    "# Rotate the list by 2 positions\n",
    "rotated_list = rotate_list(original_list, 2)\n",
    "\n",
    "# Printing the original and rotated lists\n",
    "print(\"Original List:\")\n",
    "print(original_list)\n",
    "\n",
    "print(\"\\nRotated List by 2 positions:\")\n",
    "print(rotated_list)\n"
   ]
  },
  {
   "cell_type": "markdown",
   "id": "64ca67b5",
   "metadata": {},
   "source": [
    "### Assignment 15: List Intersection\n",
    "\n",
    "Write a function that takes two lists and returns a new list containing only the elements that are present in both lists. Print the intersected list."
   ]
  },
  {
   "cell_type": "code",
   "execution_count": null,
   "id": "b7cbb209",
   "metadata": {},
   "outputs": [],
   "source": [
    "def intersect_lists(list1, list2):\n",
    "    # Using list comprehension to find the common elements\n",
    "    return [item for item in list1 if item in list2]\n",
    "\n",
    "# Example lists\n",
    "list1 = [1, 2, 3, 4, 5]\n",
    "list2 = [4, 5, 6, 7, 8]\n",
    "\n",
    "# Getting the intersection of the two lists\n",
    "intersected_list = intersect_lists(list1, list2)\n",
    "\n",
    "# Printing the intersected list\n",
    "print(\"Intersected List:\")\n",
    "print(intersected_list)\n"
   ]
  }
 ],
 "metadata": {
  "kernelspec": {
   "display_name": "Python 3",
   "language": "python",
   "name": "python3"
  },
  "language_info": {
   "codemirror_mode": {
    "name": "ipython",
    "version": 3
   },
   "file_extension": ".py",
   "mimetype": "text/x-python",
   "name": "python",
   "nbconvert_exporter": "python",
   "pygments_lexer": "ipython3",
   "version": "3.12.0"
  }
 },
 "nbformat": 4,
 "nbformat_minor": 5
}
